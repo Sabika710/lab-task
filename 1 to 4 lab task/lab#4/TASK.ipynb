{
 "cells": [
  {
   "cell_type": "markdown",
   "metadata": {},
   "source": [
    "LUHN code"
   ]
  },
  {
   "cell_type": "code",
   "execution_count": 16,
   "metadata": {},
   "outputs": [
    {
     "name": "stdout",
     "output_type": "stream",
     "text": [
      "[7, 2, 5, 5, 8, 5, 2, 1, 8, 0, 7, 3, 9, 8, 1, 9]\n"
     ]
    }
   ],
   "source": [
    "\n",
    "id=[]\n",
    "limit=16\n",
    "for i in range(limit-len(id)):\n",
    "    a=int(input('enter your id num one by one: ' ))\n",
    "    id.append(a)\n",
    "    \n",
    "    \n",
    "print(id)"
   ]
  },
  {
   "cell_type": "code",
   "execution_count": 17,
   "metadata": {},
   "outputs": [
    {
     "name": "stdout",
     "output_type": "stream",
     "text": [
      "invalid\n"
     ]
    }
   ],
   "source": [
    "def code_for_luhn():\n",
    "    xx=id.pop()\n",
    "    reversed_id=list(reversed(id))\n",
    "    even_sum=0\n",
    "    odd_sum=0\n",
    "    \n",
    "    for i in range(len(reversed_id)):\n",
    "        if i%2==0:\n",
    "            two_times_digit=reversed_id[i]*2\n",
    "            if two_times_digit>9:\n",
    "                two_times_digit-=9\n",
    "                even_sum+=two_times_digit\n",
    "        else:\n",
    "            odd_sum+=reversed_id[i]\n",
    "            \n",
    "    return (odd_sum+even_sum+xx)%10 == 0\n",
    "    \n",
    "\n",
    "if code_for_luhn():\n",
    "    print(\"valid\")\n",
    "    \n",
    "else:\n",
    "    print('invalid')\n"
   ]
  },
  {
   "cell_type": "code",
   "execution_count": 20,
   "metadata": {},
   "outputs": [
    {
     "name": "stdout",
     "output_type": "stream",
     "text": [
      "invalid\n"
     ]
    }
   ],

   "source": [
    "Remove Punctuation"
   ]
  },
  {
   "cell_type": "code",
   "execution_count": 19,
   "metadata": {},
   "outputs": [],
   "source": [
    "def remove_punctuation(str1):\n",
    "    p_marks=\"!@#$%^&*()_+:'<>?/|~,.;\"\n",
    "    result=''\n",
    "    for p in str1:\n",
    "        if p not in p_marks:\n",
    "            result+=p\n",
    "    return result"
   ]
  },
  {
   "cell_type": "code",
   "execution_count": 20,
   "metadata": {},
   "outputs": [
    {
     "data": {
      "text/plain": [
       "'shkh2hkhnbbbmb'"
      ]
     },
     "execution_count": 20,
     "metadata": {},
     "output_type": "execute_result"
    }
   ],
   "source": [
    "remove_punctuation(\"shkh2hkh@nbb#bmb\")"
   ]
  },
  {
   "cell_type": "markdown",
   "metadata": {},
   "source": [
    "sorting alphabets"
   ]
  },
  {
   "cell_type": "code",
   "execution_count": 12,
   "metadata": {},
   "outputs": [
    {
     "data": {
      "text/plain": [
       "['a', 'b', 'c', 'd', 's', 't', 'v', 'x', 'y']"
      ]
     },
     "execution_count": 12,
     "metadata": {},
     "output_type": "execute_result"
    }
   ],
   "source": [
    "def sort_alphabets(str2):\n",
    "    l1=list(str2)\n",
    "    \n",
    "    \n",
    "    for j in range(len(l1)-1):\n",
    "        for i in range (len(l1)-1-j):\n",
    "            \n",
    "            if l1[i] > l1[i+1]:\n",
    "                l1[i], l1[i+1]=l1[i+1], l1[i]\n",
    "            \n",
    "    return l1\n",
    "\n",
    "sort_alphabets(\"asdxcvbty\")"
   ]
  },
  {
   "cell_type": "code",
   "execution_count": null,
   "metadata": {},
   "outputs": [],
   "source": []
  }
 ],
 "metadata": {
  "kernelspec": {
   "display_name": "Python 3",
   "language": "python",
   "name": "python3"
  },
  "language_info": {
   "codemirror_mode": {
    "name": "ipython",
    "version": 3
   },
   "file_extension": ".py",
   "mimetype": "text/x-python",
   "name": "python",
   "nbconvert_exporter": "python",
   "pygments_lexer": "ipython3",
   "version": "3.12.1"
  }
 },
 "nbformat": 4,
 "nbformat_minor": 2
}
